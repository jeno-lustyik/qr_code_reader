{
 "cells": [
  {
   "cell_type": "code",
   "execution_count": 2,
   "metadata": {
    "collapsed": true
   },
   "outputs": [],
   "source": [
    "import cv2 as cv\n",
    "import matplotlib.pyplot as plt\n",
    "import numpy as np"
   ]
  },
  {
   "cell_type": "code",
   "execution_count": 28,
   "outputs": [
    {
     "name": "stdout",
     "output_type": "stream",
     "text": [
      "[[  0   0   0 ...   0   0   0]\n",
      " [  0 255 255 ... 255 255   0]\n",
      " [  0 255   0 ...   0 255   0]\n",
      " ...\n",
      " [  0 255   0 ... 255 255   0]\n",
      " [  0 255 255 ... 255   0   0]\n",
      " [  0   0   0 ...   0 255   0]]\n",
      "\n",
      "         (__) \n",
      "         (oo) \n",
      "   /------\\/ \n",
      "  / |    ||   \n",
      " *  /\\---/\\ \n",
      "    ~~   ~~   \n",
      "\n",
      "\n",
      "[[[471.64368 204.     ]\n",
      "  [717.89343 204.     ]\n",
      "  [708.30176 438.0374 ]\n",
      "  [458.42676 433.97443]]]\n"
     ]
    }
   ],
   "source": [
    "img = cv.imread('qr_code.jpg')\n",
    "qr = cv.QRCodeDetector()\n",
    "\n",
    "_, code = qr.detect(img)\n",
    "_, QR_string = qr.decode(img, code)\n",
    "x, y, string = qr.detectAndDecode(img)\n",
    "\n",
    "print(string)\n",
    "print('')\n",
    "print(x)\n",
    "print(y)"
   ],
   "metadata": {
    "collapsed": false,
    "pycharm": {
     "name": "#%%\n"
    }
   }
  }
 ],
 "metadata": {
  "kernelspec": {
   "display_name": "Python 3",
   "language": "python",
   "name": "python3"
  },
  "language_info": {
   "codemirror_mode": {
    "name": "ipython",
    "version": 2
   },
   "file_extension": ".py",
   "mimetype": "text/x-python",
   "name": "python",
   "nbconvert_exporter": "python",
   "pygments_lexer": "ipython2",
   "version": "2.7.6"
  }
 },
 "nbformat": 4,
 "nbformat_minor": 0
}